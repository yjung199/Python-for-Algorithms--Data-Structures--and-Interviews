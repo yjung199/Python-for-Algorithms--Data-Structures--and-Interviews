{
 "cells": [
  {
   "cell_type": "markdown",
   "metadata": {},
   "source": [
    "# Graph Lecture\n"
   ]
  },
  {
   "cell_type": "code",
   "execution_count": 2,
   "metadata": {},
   "outputs": [],
   "source": [
    "from enum import Enum\n",
    "\n",
    "class State(Enum):\n",
    "    unvisited = 1\n",
    "    visited = 2\n",
    "    visiting = 3"
   ]
  },
  {
   "cell_type": "code",
   "execution_count": 4,
   "metadata": {},
   "outputs": [],
   "source": [
    "from collections import OrderedDict\n",
    "class Node:\n",
    "    def __init__(self, num):\n",
    "        self.num = num\n",
    "        self.visit_state = State.unvisited\n",
    "        self.adjacent = OrderedDict()   # key = node, value = weight\n",
    "\n",
    "    def __str__(self):\n",
    "        return str(self.num)\n",
    "\n",
    "\n",
    "\n",
    "    "
   ]
  },
  {
   "cell_type": "code",
   "execution_count": 5,
   "metadata": {},
   "outputs": [],
   "source": [
    "class Graph:\n",
    "    def __init__(self):\n",
    "        self.nodes = OrderedDict()\n",
    "    def add_node(self, num):\n",
    "        node = Node(num)\n",
    "        self.nodes[num] = node\n",
    "        return node\n",
    "    def add_edge(self, source, dest, weight=0):\n",
    "        if source not in self.nodes:\n",
    "            self.add_node(source)\n",
    "        if dest not in self.nodes:\n",
    "            self.add_node(dest)\n",
    "\n",
    "        self.nodes[source].adjacent[self.nodes[dest]] = weight"
   ]
  },
  {
   "cell_type": "code",
   "execution_count": 6,
   "metadata": {},
   "outputs": [],
   "source": [
    "g = Graph()\n",
    "g.add_edge(0, 1, 5)"
   ]
  },
  {
   "cell_type": "code",
   "execution_count": 7,
   "metadata": {},
   "outputs": [
    {
     "output_type": "execute_result",
     "data": {
      "text/plain": "OrderedDict([(0, <__main__.Node at 0x7fb3896a7640>),\n             (1, <__main__.Node at 0x7fb3896a7a00>)])"
     },
     "metadata": {},
     "execution_count": 7
    }
   ],
   "source": [
    "g.nodes\n"
   ]
  },
  {
   "cell_type": "code",
   "execution_count": 8,
   "metadata": {},
   "outputs": [],
   "source": [
    "g.add_edge(1, 2, 3)"
   ]
  },
  {
   "cell_type": "code",
   "execution_count": 9,
   "metadata": {},
   "outputs": [
    {
     "output_type": "execute_result",
     "data": {
      "text/plain": "OrderedDict([(0, <__main__.Node at 0x7fb3896a7640>),\n             (1, <__main__.Node at 0x7fb3896a7a00>),\n             (2, <__main__.Node at 0x7fb388a5b5e0>)])"
     },
     "metadata": {},
     "execution_count": 9
    }
   ],
   "source": [
    "g.nodes"
   ]
  },
  {
   "cell_type": "code",
   "execution_count": 10,
   "metadata": {},
   "outputs": [],
   "source": [
    "def dfs(graph, start):\n",
    "    visited = set()\n",
    "    stack = [start]\n",
    "\n",
    "    while stack:\n",
    "        vertex = stack.pop()\n",
    "        if vertex not in visited:\n",
    "            visited.add(vertex)\n",
    "            stack.extend(graph[vertex] - visited)\n",
    "\n",
    "    return visited\n",
    "\n",
    "\n"
   ]
  },
  {
   "cell_type": "code",
   "execution_count": null,
   "metadata": {},
   "outputs": [],
   "source": []
  }
 ],
 "metadata": {
  "language_info": {
   "codemirror_mode": {
    "name": "ipython",
    "version": 3
   },
   "file_extension": ".py",
   "mimetype": "text/x-python",
   "name": "python",
   "nbconvert_exporter": "python",
   "pygments_lexer": "ipython3",
   "version": "3.8.2-final"
  },
  "orig_nbformat": 2,
  "kernelspec": {
   "name": "python38264bite57af90baf4c458aa9d139163dfc9007",
   "display_name": "Python 3.8.2 64-bit"
  }
 },
 "nbformat": 4,
 "nbformat_minor": 2
}