{
 "cells": [
  {
   "cell_type": "markdown",
   "metadata": {},
   "source": [
    "# Implement a Graph Class!\n",
    "\n",
    "That's it! \n",
    "\n",
    "Best of luck and reference the video lecture for any questions!\n",
    "\n",
    "You have to fully worked out implementations in the lectures, so make sure to refer to them!"
   ]
  },
  {
   "cell_type": "code",
   "execution_count": 1,
   "metadata": {},
   "outputs": [],
   "source": [
    "class Graph(object):\n",
    "    def __init__(self):\n",
    "        self.verticies = {}\n",
    "        self.vertextCount = 0\n",
    "\n",
    "    def addVertex(self, key):\n",
    "        nv = Vertex(key)\n",
    "        self.verticies[key] = nv\n",
    "        self.vertextCount += 1\n",
    "        return nv\n",
    "\n",
    "    def getVertex(self, n):\n",
    "        if n in self.verticies:\n",
    "            return self.verticies[n]\n",
    "\n",
    "    def addEdge(self, f, t, weight = 0):\n",
    "        if f not in self.verticies:\n",
    "            nv = addVertex(f)\n",
    "        if t not in self.verticies:\n",
    "            nv = addVertex(t)\n",
    "\n",
    "        self.verticies[f].addNeighbor(self.verticies[t], cost)\n",
    "\n",
    "\n",
    "    def getVerticies(self):\n",
    "        return self.verticies.keys()\n",
    "\n",
    "    def __iter__(self):\n",
    "        return iter(self.verticies.values())\n",
    "        \n"
   ]
  },
  {
   "cell_type": "markdown",
   "metadata": {},
   "source": [
    "# Good Luck!"
   ]
  }
 ],
 "metadata": {
  "kernelspec": {
   "display_name": "Python 3.8.2 64-bit",
   "language": "python",
   "name": "python38264bite57af90baf4c458aa9d139163dfc9007"
  },
  "language_info": {
   "codemirror_mode": {
    "name": "ipython",
    "version": 2
   },
   "file_extension": ".py",
   "mimetype": "text/x-python",
   "name": "python",
   "nbconvert_exporter": "python",
   "pygments_lexer": "ipython2",
   "version": "3.8.2-final"
  }
 },
 "nbformat": 4,
 "nbformat_minor": 0
}