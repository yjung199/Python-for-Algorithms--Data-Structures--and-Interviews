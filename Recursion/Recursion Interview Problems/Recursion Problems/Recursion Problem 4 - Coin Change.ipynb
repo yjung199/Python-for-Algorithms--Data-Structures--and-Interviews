{
 "cells": [
  {
   "cell_type": "markdown",
   "metadata": {
    "collapsed": true
   },
   "source": [
    "# Coin Change Problem\n",
    "\n",
    "##### Note: This problem has multiple solutions and is a classic problem in showing issues with basic recursion. If you are having trouble with this problem (or it seems to be taking a long time to run in some cases) check out the Solution Notebook and fully read the conclusion link for a detailed description of the various ways to solve this problem!\n",
    "\n",
    "\n",
    "This problem is common enough that is actually has its own [Wikipedia Entry](https://en.wikipedia.org/wiki/Change-making_problem)! \n",
    "\n",
    "____\n",
    "## Problem Statement\n",
    "Given a target amount **n** and a list (array) of distinct coin values, what's the fewest coins needed to make the change amount. \n",
    "\n",
    "For example:\n",
    "\n",
    "If n = 10 and coins = [1,5,10]. Then there are 4 possible ways to make change:\n",
    "\n",
    "* 1+1+1+1+1+1+1+1+1+1\n",
    "\n",
    "* 5 + 1+1+1+1+1\n",
    "\n",
    "* 5+5\n",
    "\n",
    "* 10\n",
    "\n",
    "With 1 coin being the minimum amount.\n",
    "\n",
    "    \n",
    "## Solution\n",
    "\n",
    "Implement your solution below:"
   ]
  },
  {
   "cell_type": "code",
   "execution_count": 1,
   "metadata": {
    "collapsed": true
   },
   "outputs": [],
   "source": [
    "# SIMPLE RECURSION ONLY W/O DP\n",
    "# TAKING SUPER LONG BECAUSE IT KEPT MAKING REPEATED RECURSIVE CALL FOR RESULTS\n",
    "def rec_coin(target,coins):\n",
    "    \n",
    "    # DEFAULT VALUE SET TO TARGET\n",
    "    min_coins = target\n",
    "\n",
    "    # Base case\n",
    "    # Single coin match\n",
    "    if target in coins:\n",
    "        return 1\n",
    "    # Recursion\n",
    "    else:\n",
    "        # For every coin value that is <= my target\n",
    "        for i in [c for c in coins if c<= target]:\n",
    "            # ADD A COIN COUNT (1) + RECURSIVE WITH NEW TARGET (target-i)\n",
    "            num_coins = 1 + rec_coin(target-i, coins)\n",
    "\n",
    "            # Reset minimum if new num_coins < min_coins\n",
    "            if num_coins < min_coins:\n",
    "                min_coins = num_coins\n",
    "\n",
    "\n",
    "    return min_coins\n",
    "    \n",
    "\n",
    "    \n",
    "    "
   ]
  },
  {
   "cell_type": "code",
   "execution_count": 2,
   "metadata": {
    "collapsed": false
   },
   "outputs": [
    {
     "output_type": "execute_result",
     "data": {
      "text/plain": "2"
     },
     "metadata": {},
     "execution_count": 2
    }
   ],
   "source": [
    "rec_coin(10,[1,5])"
   ]
  },
  {
   "cell_type": "code",
   "execution_count": 5,
   "metadata": {},
   "outputs": [],
   "source": [
    "# RECURSION WITH DP\n",
    "def rec_coin_dynam(target, coins, known_results):\n",
    "    # Default output to target\n",
    "    min_coins = target\n",
    "\n",
    "    # Base case\n",
    "    # If I kept doing the recursive call and suddenly I find \n",
    "    # that the target number is actually in coins\n",
    "    # then set known_results[target] = 1\n",
    "    if target in coins:\n",
    "        known_results[target] = 1\n",
    "        return 1\n",
    "    # Return a known result if it happens to be greater than 1\n",
    "    elif known_results[target] > 0:\n",
    "        return known_results[target]\n",
    "    else:\n",
    "        # For every coin value that is <= target\n",
    "        for i in [c for c in coins if c <= target]:\n",
    "            num_coins = 1 + rec_coin_dynam(target-i, coins, known_results)\n",
    "            if num_coins < min_coins:\n",
    "                min_coins = num_coins\n",
    "\n",
    "                # Reset that known result\n",
    "                known_results[target] = min_coins\n",
    "\n",
    "    return min_coins"
   ]
  },
  {
   "cell_type": "code",
   "execution_count": 7,
   "metadata": {},
   "outputs": [
    {
     "output_type": "execute_result",
     "data": {
      "text/plain": "8"
     },
     "metadata": {},
     "execution_count": 7
    }
   ],
   "source": [
    "target = 74\n",
    "coins = [1,5,10,25]\n",
    "known_results = [0] * (target+1)\n",
    "\n",
    "rec_coin_dynam(target, coins, known_results)"
   ]
  },
  {
   "cell_type": "markdown",
   "metadata": {},
   "source": [
    "# Test Your Solution\n",
    "\n",
    "Run the cell below to test your function against some test cases. \n",
    "\n",
    "**Note that the TestCoins class only test functions with two parameter inputs, the list of coins and the target**"
   ]
  },
  {
   "cell_type": "code",
   "execution_count": 6,
   "metadata": {
    "collapsed": false
   },
   "outputs": [
    {
     "output_type": "error",
     "ename": "TypeError",
     "evalue": "rec_coin_dynam() missing 1 required positional argument: 'known_results'",
     "traceback": [
      "\u001b[0;31m---------------------------------------------------------------------------\u001b[0m",
      "\u001b[0;31mTypeError\u001b[0m                                 Traceback (most recent call last)",
      "\u001b[0;32m<ipython-input-6-b54c1f443fdb>\u001b[0m in \u001b[0;36m<module>\u001b[0;34m\u001b[0m\n\u001b[1;32m     18\u001b[0m \u001b[0;34m\u001b[0m\u001b[0m\n\u001b[1;32m     19\u001b[0m \u001b[0mtest\u001b[0m \u001b[0;34m=\u001b[0m \u001b[0mTestCoins\u001b[0m\u001b[0;34m(\u001b[0m\u001b[0;34m)\u001b[0m\u001b[0;34m\u001b[0m\u001b[0;34m\u001b[0m\u001b[0m\n\u001b[0;32m---> 20\u001b[0;31m \u001b[0mtest\u001b[0m\u001b[0;34m.\u001b[0m\u001b[0mcheck\u001b[0m\u001b[0;34m(\u001b[0m\u001b[0mrec_coin_dynam\u001b[0m\u001b[0;34m)\u001b[0m\u001b[0;34m\u001b[0m\u001b[0;34m\u001b[0m\u001b[0m\n\u001b[0m",
      "\u001b[0;32m<ipython-input-6-b54c1f443fdb>\u001b[0m in \u001b[0;36mcheck\u001b[0;34m(self, solution)\u001b[0m\n\u001b[1;32m     11\u001b[0m     \u001b[0;32mdef\u001b[0m \u001b[0mcheck\u001b[0m\u001b[0;34m(\u001b[0m\u001b[0mself\u001b[0m\u001b[0;34m,\u001b[0m\u001b[0msolution\u001b[0m\u001b[0;34m)\u001b[0m\u001b[0;34m:\u001b[0m\u001b[0;34m\u001b[0m\u001b[0;34m\u001b[0m\u001b[0m\n\u001b[1;32m     12\u001b[0m         \u001b[0mcoins\u001b[0m \u001b[0;34m=\u001b[0m \u001b[0;34m[\u001b[0m\u001b[0;36m1\u001b[0m\u001b[0;34m,\u001b[0m\u001b[0;36m5\u001b[0m\u001b[0;34m,\u001b[0m\u001b[0;36m10\u001b[0m\u001b[0;34m,\u001b[0m\u001b[0;36m25\u001b[0m\u001b[0;34m]\u001b[0m\u001b[0;34m\u001b[0m\u001b[0;34m\u001b[0m\u001b[0m\n\u001b[0;32m---> 13\u001b[0;31m         \u001b[0massert_equal\u001b[0m\u001b[0;34m(\u001b[0m\u001b[0msolution\u001b[0m\u001b[0;34m(\u001b[0m\u001b[0;36m45\u001b[0m\u001b[0;34m,\u001b[0m\u001b[0mcoins\u001b[0m\u001b[0;34m)\u001b[0m\u001b[0;34m,\u001b[0m\u001b[0;36m3\u001b[0m\u001b[0;34m)\u001b[0m\u001b[0;34m\u001b[0m\u001b[0;34m\u001b[0m\u001b[0m\n\u001b[0m\u001b[1;32m     14\u001b[0m         \u001b[0massert_equal\u001b[0m\u001b[0;34m(\u001b[0m\u001b[0msolution\u001b[0m\u001b[0;34m(\u001b[0m\u001b[0;36m23\u001b[0m\u001b[0;34m,\u001b[0m\u001b[0mcoins\u001b[0m\u001b[0;34m)\u001b[0m\u001b[0;34m,\u001b[0m\u001b[0;36m5\u001b[0m\u001b[0;34m)\u001b[0m\u001b[0;34m\u001b[0m\u001b[0;34m\u001b[0m\u001b[0m\n\u001b[1;32m     15\u001b[0m         \u001b[0massert_equal\u001b[0m\u001b[0;34m(\u001b[0m\u001b[0msolution\u001b[0m\u001b[0;34m(\u001b[0m\u001b[0;36m74\u001b[0m\u001b[0;34m,\u001b[0m\u001b[0mcoins\u001b[0m\u001b[0;34m)\u001b[0m\u001b[0;34m,\u001b[0m\u001b[0;36m8\u001b[0m\u001b[0;34m)\u001b[0m\u001b[0;34m\u001b[0m\u001b[0;34m\u001b[0m\u001b[0m\n",
      "\u001b[0;31mTypeError\u001b[0m: rec_coin_dynam() missing 1 required positional argument: 'known_results'"
     ]
    }
   ],
   "source": [
    "\"\"\"\n",
    "RUN THIS CELL TO TEST YOUR FUNCTION.\n",
    "NOTE: NON-DYNAMIC FUNCTIONS WILL TAKE A LONG TIME TO TEST. IF YOU BELIEVE YOU HAVE A SOLUTION \n",
    "      GO CHECK THE SOLUTION NOTEBOOK INSTEAD OF RUNNING THIS!\n",
    "\"\"\"\n",
    "\n",
    "from nose.tools import assert_equal\n",
    "\n",
    "class TestCoins(object):\n",
    "    \n",
    "    def check(self,solution):\n",
    "        coins = [1,5,10,25]\n",
    "        assert_equal(solution(45,coins),3)\n",
    "        assert_equal(solution(23,coins),5)\n",
    "        assert_equal(solution(74,coins),8)\n",
    "        print ('Passed all tests.')\n",
    "# Run Test\n",
    "\n",
    "test = TestCoins()\n",
    "test.check(rec_coin)"
   ]
  },
  {
   "cell_type": "markdown",
   "metadata": {},
   "source": [
    "## EXTRA\n",
    "\n",
    "Good luck and remember to read the solution notebook for this once you've think you have a solution!"
   ]
  }
 ],
 "metadata": {
  "kernelspec": {
   "display_name": "Python 3.8.2 64-bit",
   "language": "python",
   "name": "python38264bite57af90baf4c458aa9d139163dfc9007"
  },
  "language_info": {
   "codemirror_mode": {
    "name": "ipython",
    "version": 2
   },
   "file_extension": ".py",
   "mimetype": "text/x-python",
   "name": "python",
   "nbconvert_exporter": "python",
   "pygments_lexer": "ipython2",
   "version": "3.8.2-final"
  }
 },
 "nbformat": 4,
 "nbformat_minor": 0
}