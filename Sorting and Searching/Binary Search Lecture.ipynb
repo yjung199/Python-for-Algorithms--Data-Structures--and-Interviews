{
 "cells": [
  {
   "cell_type": "markdown",
   "metadata": {},
   "source": [
    "# Binary Search Lecture"
   ]
  },
  {
   "cell_type": "code",
   "execution_count": 1,
   "metadata": {},
   "outputs": [],
   "source": [
    "def binary_search(arr, ele):\n",
    "    # Idxs\n",
    "    first = 0\n",
    "    last = len(arr)-1\n",
    "\n",
    "    found = False\n",
    "\n",
    "    # First idx <= last and ele not found yet\n",
    "    while first <= last and not found:\n",
    "        mid = (first + last)//2\n",
    "        if arr[mid] == ele:\n",
    "            found = True\n",
    "        # Deciding which half of the array the idxs should be moved to\n",
    "        else:\n",
    "            # If element is < arr[mid]\n",
    "            # Move the last index to be mid-1\n",
    "            # so second half of the original array is ignored\n",
    "            if ele < arr[mid]:\n",
    "                last = mid-1\n",
    "            # Else if element is > arr[mid]\n",
    "            # Move the first index to be mid+1\n",
    "            # so first half of the original array is ignored\n",
    "            else: \n",
    "                first = mid+1\n",
    "\n",
    "    return found\n"
   ]
  },
  {
   "cell_type": "code",
   "execution_count": 3,
   "metadata": {},
   "outputs": [
    {
     "output_type": "execute_result",
     "data": {
      "text/plain": "False"
     },
     "metadata": {},
     "execution_count": 3
    }
   ],
   "source": [
    "arr = [1,2,3,4,5,6,7,8,9,10]\n",
    "binary_search(arr, 11)"
   ]
  },
  {
   "cell_type": "code",
   "execution_count": 6,
   "metadata": {},
   "outputs": [],
   "source": [
    "def rec_bin_search(arr, ele):\n",
    "    if len(arr) == 0:\n",
    "        return False\n",
    "    \n",
    "    else:\n",
    "        mid = len(arr)//2\n",
    "        if arr[mid] == ele:\n",
    "            return True\n",
    "        else:\n",
    "            if ele < arr[mid]:\n",
    "                return rec_bin_search(arr[:mid], ele)\n",
    "            else:\n",
    "                return rec_bin_search(arr[mid+1:], ele)"
   ]
  },
  {
   "cell_type": "code",
   "execution_count": 7,
   "metadata": {},
   "outputs": [
    {
     "output_type": "execute_result",
     "data": {
      "text/plain": "True"
     },
     "metadata": {},
     "execution_count": 7
    }
   ],
   "source": [
    "arr = [1,2,3,4,5,6,7,8,9,10]\n",
    "binary_search(arr, 10)"
   ]
  },
  {
   "cell_type": "code",
   "execution_count": null,
   "metadata": {},
   "outputs": [],
   "source": []
  }
 ],
 "metadata": {
  "language_info": {
   "codemirror_mode": {
    "name": "ipython",
    "version": 3
   },
   "file_extension": ".py",
   "mimetype": "text/x-python",
   "name": "python",
   "nbconvert_exporter": "python",
   "pygments_lexer": "ipython3",
   "version": "3.8.2-final"
  },
  "orig_nbformat": 2,
  "kernelspec": {
   "name": "python38264bite57af90baf4c458aa9d139163dfc9007",
   "display_name": "Python 3.8.2 64-bit"
  }
 },
 "nbformat": 4,
 "nbformat_minor": 2
}