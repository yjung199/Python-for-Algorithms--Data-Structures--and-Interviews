{
 "cells": [
  {
   "cell_type": "markdown",
   "metadata": {},
   "source": [
    "# Bubble Sort Lecture\n",
    "\n",
    "The bubble sort makes multiple passes through a list. It compares adjacent items and exchanges those that are out of order. Each pass through the list places the next largest value in its proper place. In essence, each item “bubbles” up to the location where it belongs.\n"
   ]
  },
  {
   "cell_type": "code",
   "execution_count": 11,
   "metadata": {},
   "outputs": [],
   "source": [
    "def bubble_sort(arr):\n",
    "    # Going in reverse order from last index to 1 of arr\n",
    "    # Because the last element of the arr should be sorted as bubbling up the array\n",
    "    # so skip them\n",
    "    for n in range(len(arr)-1, 0, -1):\n",
    "        # For k from 0 to n\n",
    "        print('This is the n:',n)\n",
    "        for k in range(n):\n",
    "            print('This is the k index check:',k)\n",
    "            # If current element is > next element\n",
    "            if arr[k] > arr[k+1]:\n",
    "                # Swap the two\n",
    "                temp = arr[k]\n",
    "                arr[k] = arr[k+1]\n",
    "                arr[k+1] = temp"
   ]
  },
  {
   "cell_type": "code",
   "execution_count": 12,
   "metadata": {},
   "outputs": [
    {
     "output_type": "stream",
     "name": "stdout",
     "text": "This is the n: 5\nThis is the k index check: 0\nThis is the k index check: 1\nThis is the k index check: 2\nThis is the k index check: 3\nThis is the k index check: 4\nThis is the n: 4\nThis is the k index check: 0\nThis is the k index check: 1\nThis is the k index check: 2\nThis is the k index check: 3\nThis is the n: 3\nThis is the k index check: 0\nThis is the k index check: 1\nThis is the k index check: 2\nThis is the n: 2\nThis is the k index check: 0\nThis is the k index check: 1\nThis is the n: 1\nThis is the k index check: 0\n"
    },
    {
     "output_type": "execute_result",
     "data": {
      "text/plain": "[1, 2, 3, 4, 6, 8]"
     },
     "metadata": {},
     "execution_count": 12
    }
   ],
   "source": [
    "arr = [3,6,1,8,4,2]\n",
    "bubble_sort(arr)\n",
    "arr"
   ]
  },
  {
   "cell_type": "code",
   "execution_count": null,
   "metadata": {},
   "outputs": [],
   "source": []
  }
 ],
 "metadata": {
  "language_info": {
   "codemirror_mode": {
    "name": "ipython",
    "version": 3
   },
   "file_extension": ".py",
   "mimetype": "text/x-python",
   "name": "python",
   "nbconvert_exporter": "python",
   "pygments_lexer": "ipython3",
   "version": "3.8.2-final"
  },
  "orig_nbformat": 2,
  "kernelspec": {
   "name": "python38264bite57af90baf4c458aa9d139163dfc9007",
   "display_name": "Python 3.8.2 64-bit"
  }
 },
 "nbformat": 4,
 "nbformat_minor": 2
}