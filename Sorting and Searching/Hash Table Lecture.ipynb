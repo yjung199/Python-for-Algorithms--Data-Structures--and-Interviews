{
 "cells": [
  {
   "cell_type": "markdown",
   "metadata": {},
   "source": [
    "# Hash Table Lecture"
   ]
  },
  {
   "cell_type": "code",
   "execution_count": 1,
   "metadata": {},
   "outputs": [],
   "source": [
    "class HashTable(object):\n",
    "\n",
    "    def __init__(self, size):\n",
    "        self.size = size\n",
    "        self.slots = [None] * self.size\n",
    "        self.data = [None] * self.size\n",
    "\n",
    "    # Putting key-data pair\n",
    "    # Key in slots[] and data in data[]\n",
    "    def put(self, key, data):\n",
    "        # key%size\n",
    "        hashvalue = self.hashfunction(key, len(self.slots))\n",
    "\n",
    "        # If the slots[hasvalue] is None, \n",
    "        # Put key and data in corresponding slots[] and data[]\n",
    "        if self.slots[hashvalue] == None:\n",
    "            self.slots[hashvalue] = key\n",
    "            self.data[hashvalue] = data\n",
    "        else: \n",
    "            # If the slots[hashvalue] is not None but the key is the same,\n",
    "            # Overwrite the data\n",
    "            if self.slots[hashvalue] == key:\n",
    "                self.data[hashvalue] = data\n",
    "            else:\n",
    "                # If the slots[hashvalue] is not None and the key is not the same,\n",
    "                # rehashing is necessary\n",
    "                nextslot = self.rehash(hashvalue, len(self.slots))\n",
    "                # Keey rehashing until it finds next empty slot\n",
    "                while self.slots[nextslot] != None and self.slots[nextslot] != key:\n",
    "                    nextslot = self.rehash(nextslot, len(self.slots))\n",
    "                \n",
    "                # If next slot is empty\n",
    "                # Put key and data in corresponding slots[] and data[]\n",
    "                if self.slots[nextslot] == None:\n",
    "                    self.slots[nextslot] = key\n",
    "                    self.data[nextslot] = data\n",
    "                # Else, meaning that the key is the same in slot[nextslot]\n",
    "                # overwrite the data\n",
    "                else: \n",
    "                    self.data[nextslot] = data\n",
    "    \n",
    "    def hashfunction(self, key, size):\n",
    "        return key%size\n",
    "\n",
    "    # When slots[hashvalue] is not None\n",
    "    def rehash(self, oldhash, size):\n",
    "        # Simply move along the slots and look for the next available slot\n",
    "        return (oldhash+1)%size\n",
    "\n",
    "\n",
    "    def get(self, key):\n",
    "        startslot = self.hashfunction(key, len(self.slots))\n",
    "        data = None\n",
    "        stop = False\n",
    "        found = False\n",
    "        position = startslot\n",
    "\n",
    "        # While the self.slots[position] is not empty and didn't find, nor stopped, do:\n",
    "        while self.slots[position] != None and not found and not stop:\n",
    "            # If slots[position] == key\n",
    "            # matching key found\n",
    "            # retreive data (data = self.data[position])\n",
    "            if self.slots[position] == key:\n",
    "                found = True\n",
    "                data = self.data[position]\n",
    "            else:\n",
    "                # If slots[position] != key\n",
    "                # update the position by rehashing so it can go over to the next slot that key may be stored\n",
    "                position = self.rehash(position, len(self.slots))\n",
    "                # If iteration ended up doing the circle back,\n",
    "                # flag it to stop\n",
    "                if position == startslot:\n",
    "                    stop = True\n",
    "        return data\n",
    "\n",
    "    def __getitem__(self, key):\n",
    "        return self.get(key)\n",
    "    \n",
    "    def __setitem__(self,key, data):\n",
    "        return self.put(key, data)"
   ]
  },
  {
   "cell_type": "code",
   "execution_count": 2,
   "metadata": {},
   "outputs": [],
   "source": [
    "h = HashTable(5)"
   ]
  },
  {
   "cell_type": "code",
   "execution_count": 3,
   "metadata": {},
   "outputs": [],
   "source": [
    "h[1] = 'one'"
   ]
  },
  {
   "cell_type": "code",
   "execution_count": 4,
   "metadata": {},
   "outputs": [],
   "source": [
    "h[2] = 'two'\n",
    "h[3] = 'three'"
   ]
  },
  {
   "cell_type": "code",
   "execution_count": 5,
   "metadata": {},
   "outputs": [
    {
     "output_type": "execute_result",
     "data": {
      "text/plain": "'one'"
     },
     "metadata": {},
     "execution_count": 5
    }
   ],
   "source": [
    "h[1]\n"
   ]
  },
  {
   "cell_type": "code",
   "execution_count": 6,
   "metadata": {},
   "outputs": [
    {
     "output_type": "execute_result",
     "data": {
      "text/plain": "'two'"
     },
     "metadata": {},
     "execution_count": 6
    }
   ],
   "source": [
    "h[2]"
   ]
  },
  {
   "cell_type": "code",
   "execution_count": 7,
   "metadata": {},
   "outputs": [
    {
     "output_type": "execute_result",
     "data": {
      "text/plain": "'three'"
     },
     "metadata": {},
     "execution_count": 7
    }
   ],
   "source": [
    "h[3]"
   ]
  },
  {
   "cell_type": "code",
   "execution_count": null,
   "metadata": {},
   "outputs": [],
   "source": []
  }
 ],
 "metadata": {
  "language_info": {
   "codemirror_mode": {
    "name": "ipython",
    "version": 3
   },
   "file_extension": ".py",
   "mimetype": "text/x-python",
   "name": "python",
   "nbconvert_exporter": "python",
   "pygments_lexer": "ipython3",
   "version": "3.8.2-final"
  },
  "orig_nbformat": 2,
  "kernelspec": {
   "name": "python38264bite57af90baf4c458aa9d139163dfc9007",
   "display_name": "Python 3.8.2 64-bit"
  }
 },
 "nbformat": 4,
 "nbformat_minor": 2
}