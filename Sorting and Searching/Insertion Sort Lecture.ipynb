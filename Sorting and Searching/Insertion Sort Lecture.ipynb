{
 "cells": [
  {
   "cell_type": "markdown",
   "metadata": {},
   "source": [
    "# Insertion Sort Lecture\n",
    "\n",
    "Insertion Sort builds the final sorted array one item at a time. It is much less efficient on large lists than more advanced algorithms such as quicksort, heapsort, or merge sort."
   ]
  },
  {
   "cell_type": "code",
   "execution_count": 1,
   "metadata": {},
   "outputs": [],
   "source": [
    "def insertion_sort(arr):\n",
    "    # n-1 passes to sort n items\n",
    "    # from 1 to n-1\n",
    "    for i in range(1, len(arr)):\n",
    "        currentvalue = arr[i]\n",
    "        position = i\n",
    "\n",
    "        # While index > 0 and arr[position-1] which is the last element of the sorted sublist > currentvalue\n",
    "        while position > 0 and arr[position-1] > currentvalue:\n",
    "\n",
    "            # Move elements in sorted sublist to the right\n",
    "            arr[position] = arr[position-1]\n",
    "            # Decrement the index to mark index after shifting right because that's the place for the currentvalue\n",
    "            position = position-1\n",
    "        # Place currentvalue in the right spot of the sublist \n",
    "        arr[position] = currentvalue\n",
    "\n"
   ]
  },
  {
   "cell_type": "code",
   "execution_count": 2,
   "metadata": {},
   "outputs": [],
   "source": [
    "arr = [4,7,3,1,67]"
   ]
  },
  {
   "cell_type": "code",
   "execution_count": 3,
   "metadata": {},
   "outputs": [
    {
     "output_type": "execute_result",
     "data": {
      "text/plain": "[1, 3, 4, 7, 67]"
     },
     "metadata": {},
     "execution_count": 3
    }
   ],
   "source": [
    "insertion_sort(arr)\n",
    "arr"
   ]
  },
  {
   "cell_type": "code",
   "execution_count": null,
   "metadata": {},
   "outputs": [],
   "source": []
  }
 ],
 "metadata": {
  "language_info": {
   "codemirror_mode": {
    "name": "ipython",
    "version": 3
   },
   "file_extension": ".py",
   "mimetype": "text/x-python",
   "name": "python",
   "nbconvert_exporter": "python",
   "pygments_lexer": "ipython3",
   "version": "3.8.2-final"
  },
  "orig_nbformat": 2,
  "kernelspec": {
   "name": "python38264bite57af90baf4c458aa9d139163dfc9007",
   "display_name": "Python 3.8.2 64-bit"
  }
 },
 "nbformat": 4,
 "nbformat_minor": 2
}