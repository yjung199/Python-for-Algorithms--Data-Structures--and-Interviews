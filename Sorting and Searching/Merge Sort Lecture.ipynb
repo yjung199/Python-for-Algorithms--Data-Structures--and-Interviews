{
 "cells": [
  {
   "cell_type": "markdown",
   "metadata": {},
   "source": [
    "# Merge Sort Lecture\n",
    "Merge sort is a recursive algorithm that continually splits a list in half. If the list is empty or has one item, it is sorted by definition (the base case). If the list has more than one item, we split the list and recursively invoke a merge sort on both halves. Once the two halves are sorted, the fundamental operation, called a merge, is performed. Merging is the process of taking two smaller sorted lists and combining them together into a single, sorted, new list. \n",
    "\n"
   ]
  },
  {
   "cell_type": "code",
   "execution_count": 18,
   "metadata": {},
   "outputs": [],
   "source": [
    "def merge_sort(arr):\n",
    "    \n",
    "    if len(arr)>1:\n",
    "        mid = len(arr)//2\n",
    "        # Slicing left half\n",
    "        lefthalf = arr[:mid]\n",
    "        # Slicing right half\n",
    "        righthalf = arr[mid:]\n",
    "\n",
    "        # Keep dividing lefthalf of the array of entire array\n",
    "        # Until its length is 2, where it has 1 lefthalf and 1 righthalf\n",
    "        merge_sort(lefthalf)\n",
    "        merge_sort(righthalf)\n",
    "\n",
    "        i=0 # Left array idx tracker\n",
    "        j=0 # Right array idx tracker\n",
    "        k=0 # Final array idx tracker\n",
    "        print('Merging ', arr)\n",
    "\n",
    "        # While i and j are both still in the range\n",
    "        # putting sorted smaller pieces of list back to arr \n",
    "        while i < len(lefthalf) and j < len(righthalf):\n",
    "            # If left element is less than right element\n",
    "            if lefthalf[i] < righthalf[j]:\n",
    "                # Set current arr[k] to the lefthalf value \n",
    "                arr[k]=lefthalf[i]\n",
    "                # Increment the left half idx\n",
    "                i=i+1\n",
    "            else:\n",
    "                arr[k]=righthalf[j]\n",
    "                j=j+1\n",
    "            # Increment final array idx\n",
    "            k=k+1\n",
    "\n",
    "        # Making sure to check lefthalf and righthalf\n",
    "        while i < len(lefthalf):\n",
    "            arr[k]=lefthalf[i]\n",
    "            i=i+1\n",
    "            k=k+1\n",
    "\n",
    "        while j < len(righthalf):\n",
    "            arr[k]=righthalf[j]\n",
    "            j=j+1\n",
    "            k=k+1\n",
    "        print('Merged to ', arr)\n"
   ]
  },
  {
   "cell_type": "code",
   "execution_count": 19,
   "metadata": {},
   "outputs": [
    {
     "output_type": "stream",
     "name": "stdout",
     "text": "Merging  [11, 2]\nMerged to  [2, 11]\nMerging  [5, 4]\nMerged to  [4, 5]\nMerging  [11, 2, 5, 4]\nMerged to  [2, 4, 5, 11]\nMerging  [7, 56]\nMerged to  [7, 56]\nMerging  [12, 23]\nMerged to  [12, 23]\nMerging  [2, 12, 23]\nMerged to  [2, 12, 23]\nMerging  [7, 56, 2, 12, 23]\nMerged to  [2, 7, 12, 23, 56]\nMerging  [11, 2, 5, 4, 7, 56, 2, 12, 23]\nMerged to  [2, 2, 4, 5, 7, 11, 12, 23, 56]\n"
    },
    {
     "output_type": "execute_result",
     "data": {
      "text/plain": "[2, 2, 4, 5, 7, 11, 12, 23, 56]"
     },
     "metadata": {},
     "execution_count": 19
    }
   ],
   "source": [
    "arr = [11, 2, 5, 4, 7, 56, 2, 12, 23]\n",
    "merge_sort(arr)\n",
    "arr"
   ]
  },
  {
   "cell_type": "code",
   "execution_count": null,
   "metadata": {},
   "outputs": [],
   "source": []
  },
  {
   "cell_type": "code",
   "execution_count": null,
   "metadata": {},
   "outputs": [],
   "source": []
  }
 ],
 "metadata": {
  "language_info": {
   "codemirror_mode": {
    "name": "ipython",
    "version": 3
   },
   "file_extension": ".py",
   "mimetype": "text/x-python",
   "name": "python",
   "nbconvert_exporter": "python",
   "pygments_lexer": "ipython3",
   "version": "3.8.2-final"
  },
  "orig_nbformat": 2,
  "kernelspec": {
   "name": "python38264bite57af90baf4c458aa9d139163dfc9007",
   "display_name": "Python 3.8.2 64-bit"
  }
 },
 "nbformat": 4,
 "nbformat_minor": 2
}