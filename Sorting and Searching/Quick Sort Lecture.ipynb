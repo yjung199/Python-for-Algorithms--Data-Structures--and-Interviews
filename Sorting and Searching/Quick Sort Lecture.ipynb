{
 "cells": [
  {
   "cell_type": "markdown",
   "metadata": {},
   "source": [
    "# Quick Sort Lecture\n",
    "\n",
    "A quick sort first selects a value, which is called the pivot value. Although there are many different ways to choose the pivot value, we will simply use the first item in the list. The role of the pivot value is to assist with splitting the list. The actual position where the pivot value belongs in the final sorted list, commonly called the split point, will be used to divide the list for subsequent calls to the quick sort.\n"
   ]
  },
  {
   "cell_type": "code",
   "execution_count": null,
   "metadata": {},
   "outputs": [],
   "source": [
    "def quick_sort(arr):\n",
    "    quick_sort_help(arr, 0, len(arr)-1)\n",
    "\n",
    "\n",
    "def quick_sort_help(arr, first, last):\n",
    "    if first < last:\n",
    "        splitpoint = partition(arr, first, last)\n",
    "\n",
    "        quick_sort_help(arr, first, splitpoint-1)\n",
    "        quick_sort_help(arr, splitpoint+1, last)\n",
    "    \n",
    "def partition(arr, first, last):\n",
    "    pivotvalue = arr[first]\n",
    "\n",
    "    leftmark = first + 1\n",
    "    rightmark = last\n",
    "    \n",
    "    done = False\n",
    "\n",
    "    while not done:\n",
    "        while leftmark <= rightmark and arr[leftmark] <= pivotvalue:\n",
    "            leftmark += 1\n",
    "        \n",
    "        while arr[rightmark] >= pivotvalue and rightmark >= leftmark:\n",
    "            rightmark -= 1\n",
    "\n",
    "        if rightmark < leftmark:\n",
    "            done = True\n",
    "        else:\n",
    "            temp = arr[leftmark]\n",
    "            arr[leftmark] = arr[rightmark]\n",
    "            arr[rightmark] = temp\n",
    "\n",
    "    temp = arr[first]\n",
    "    arr[first] = arr[rightmark]\n",
    "    arr[rightmark] = temp\n",
    "\n",
    "    return rightmark"
   ]
  }
 ],
 "metadata": {
  "language_info": {
   "codemirror_mode": {
    "name": "ipython",
    "version": 3
   },
   "file_extension": ".py",
   "mimetype": "text/x-python",
   "name": "python",
   "nbconvert_exporter": "python",
   "pygments_lexer": "ipython3",
   "version": 3
  },
  "orig_nbformat": 2
 },
 "nbformat": 4,
 "nbformat_minor": 2
}