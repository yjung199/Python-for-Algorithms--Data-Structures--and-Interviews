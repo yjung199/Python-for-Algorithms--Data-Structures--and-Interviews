{
 "cells": [
  {
   "cell_type": "markdown",
   "metadata": {},
   "source": [
    "# Selection Sort Lecture\n",
    "The selection sort improves on the bubble sort by making only one exchange for every pass through the list. In order to do this, a selection sort looks for the largest value as it makes a pass and, after completing the pass, places it in the proper location. As with a bubble sort, after the first pass, the largest item is in the correct place. After the second pass, the next largest is in place. This process continues and requires n−1 passes to sort n items, since the final item must be in place after the (n−1) st pass.\n",
    "\n",
    "*** vs Bubble Sort ***\n",
    "\n",
    "Still multiple iteration, but selection sort just do 1 swapping per iteration\n",
    "while bubble sort does multiple swapping per iteration"
   ]
  },
  {
   "cell_type": "code",
   "execution_count": 4,
   "metadata": {},
   "outputs": [],
   "source": [
    "def selection_sort(arr):\n",
    "\n",
    "    # Like bubble sort, going backward index of the given array until idx 1\n",
    "    # So it's filling the array from its end, by finding the maximums\n",
    "    for fillslot in range(len(arr)-1, 0, -1):\n",
    "        # Index of the max\n",
    "        positionOfMax = 0\n",
    "        # While iterating through 1 to fillslot,\n",
    "        for location in range(1, fillslot+1):\n",
    "            # If arr[location] > arr[positionOfMax]\n",
    "            if arr[location] > arr[positionOfMax]:\n",
    "                # Update the positionOfMax to that index\n",
    "                positionOfMax = location\n",
    "\n",
    "        # After the iteration\n",
    "        # swap arr[fillslot] and arr[positionOfMax]\n",
    "        temp = arr[fillslot]\n",
    "        arr[fillslot] = arr[positionOfMax]\n",
    "        arr[positionOfMax] = temp"
   ]
  },
  {
   "cell_type": "code",
   "execution_count": 5,
   "metadata": {},
   "outputs": [],
   "source": [
    "arr = [5,8,3,10,1]"
   ]
  },
  {
   "cell_type": "code",
   "execution_count": 7,
   "metadata": {},
   "outputs": [
    {
     "output_type": "execute_result",
     "data": {
      "text/plain": "[1, 3, 5, 8, 10]"
     },
     "metadata": {},
     "execution_count": 7
    }
   ],
   "source": [
    "selection_sort(arr)\n",
    "arr"
   ]
  },
  {
   "cell_type": "code",
   "execution_count": null,
   "metadata": {},
   "outputs": [],
   "source": []
  },
  {
   "cell_type": "code",
   "execution_count": null,
   "metadata": {},
   "outputs": [],
   "source": []
  }
 ],
 "metadata": {
  "language_info": {
   "codemirror_mode": {
    "name": "ipython",
    "version": 3
   },
   "file_extension": ".py",
   "mimetype": "text/x-python",
   "name": "python",
   "nbconvert_exporter": "python",
   "pygments_lexer": "ipython3",
   "version": "3.8.2-final"
  },
  "orig_nbformat": 2,
  "kernelspec": {
   "name": "python38264bite57af90baf4c458aa9d139163dfc9007",
   "display_name": "Python 3.8.2 64-bit"
  }
 },
 "nbformat": 4,
 "nbformat_minor": 2
}