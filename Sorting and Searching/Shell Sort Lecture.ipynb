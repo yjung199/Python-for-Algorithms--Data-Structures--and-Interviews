{
 "cells": [
  {
   "cell_type": "markdown",
   "metadata": {},
   "source": [
    "# Shell Sort Lecture\n",
    "\n",
    "The shell sort improves on the insertion sort by breaking the original list into a number of smaller sublists. The unique way that these sublists are chosen in the key to the shell sort.\n",
    "Instead of breaking the list into sublists of contiguous items, the shell sort uses an icrement \"i\" to create a sublist by choosing all items that are \"i\" items apart.\n",
    "\n",
    "*** vs Insertion Sort ***\n",
    "\n",
    "Slightly better than normal insertion sort because shell sort takes less swapping compared to the insertion sort"
   ]
  },
  {
   "cell_type": "code",
   "execution_count": 14,
   "metadata": {},
   "outputs": [],
   "source": [
    "# Basic shell sort\n",
    "\n",
    "def shell_sort(arr):\n",
    "    sublistcount = len(arr) // 2\n",
    "    while sublistcount > 0:\n",
    "        for start in range(sublistcount):\n",
    "\n",
    "            gap_insertion_sort(arr, start, sublistcount)\n",
    "\n",
    "        sublistcount = sublistcount//2\n"
   ]
  },
  {
   "cell_type": "code",
   "execution_count": 15,
   "metadata": {},
   "outputs": [],
   "source": [
    "def gap_insertion_sort(arr, start, gap):\n",
    "    for i in range(start+gap, len(arr), gap):\n",
    "\n",
    "        currentvalue = arr[i]\n",
    "        position = i\n",
    "\n",
    "        while position >= gap and arr[position-gap] > currentvalue:\n",
    "            arr[position] = arr[position-gap]\n",
    "            position = position - gap\n",
    "\n",
    "        arr[position] = currentvalue"
   ]
  },
  {
   "cell_type": "code",
   "execution_count": 16,
   "metadata": {},
   "outputs": [
    {
     "output_type": "execute_result",
     "data": {
      "text/plain": "[21, 23, 45, 67, 90, 91]"
     },
     "metadata": {},
     "execution_count": 16
    }
   ],
   "source": [
    "arr = [45,67,23,21,90, 91]\n",
    "shell_sort(arr)\n",
    "arr"
   ]
  },
  {
   "cell_type": "code",
   "execution_count": null,
   "metadata": {},
   "outputs": [],
   "source": []
  },
  {
   "cell_type": "code",
   "execution_count": null,
   "metadata": {},
   "outputs": [],
   "source": []
  }
 ],
 "metadata": {
  "language_info": {
   "codemirror_mode": {
    "name": "ipython",
    "version": 3
   },
   "file_extension": ".py",
   "mimetype": "text/x-python",
   "name": "python",
   "nbconvert_exporter": "python",
   "pygments_lexer": "ipython3",
   "version": "3.8.2-final"
  },
  "orig_nbformat": 2,
  "kernelspec": {
   "name": "python38264bite57af90baf4c458aa9d139163dfc9007",
   "display_name": "Python 3.8.2 64-bit"
  }
 },
 "nbformat": 4,
 "nbformat_minor": 2
}