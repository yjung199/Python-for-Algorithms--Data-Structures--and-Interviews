{
 "cells": [
  {
   "cell_type": "markdown",
   "metadata": {},
   "source": [
    "# Balanced Parentheses Check \n",
    "\n",
    "## Problem Statement\n",
    "\n",
    "Given a string of opening and closing parentheses, check whether it’s balanced. We have 3 types of parentheses: round brackets: (), square brackets: [], and curly brackets: {}. Assume that the string doesn’t contain any other character than these, no spaces words or numbers. As a reminder, balanced parentheses require every opening parenthesis to be closed in the reverse order opened. For example ‘([])’ is balanced but ‘([)]’ is not. \n",
    "\n",
    "\n",
    "You can assume the input string has no spaces.\n",
    "\n",
    "## Solution\n",
    "\n",
    "Fill out your solution below:"
   ]
  },
  {
   "cell_type": "code",
   "execution_count": 39,
   "metadata": {
    "collapsed": true
   },
   "outputs": [],
   "source": [
    "def balance_check(s):\n",
    "    stack = []\n",
    "    for p in s:\n",
    "        if not stack and (p == ')' or p == '}' or p==']'):\n",
    "            return False\n",
    "        if p == '(' or p =='[' or p =='{':\n",
    "            stack.append(p)\n",
    "        if p == ')':\n",
    "            if stack[len(stack)-1] != '(':\n",
    "                stack.append(p)\n",
    "            else:\n",
    "                stack.pop()\n",
    "        if p == ']':\n",
    "            if stack[len(stack)-1] != '[':\n",
    "                stack.append(p)\n",
    "            else:\n",
    "                stack.pop()\n",
    "        if p == '}':\n",
    "            if stack[len(stack)-1] != '{':\n",
    "                stack.append(p)\n",
    "            else:\n",
    "                stack.pop()\n",
    "    \n",
    "    if not stack:\n",
    "        return True\n",
    "    else:\n",
    "        return False\n"
   ]
  },
  {
   "cell_type": "code",
   "execution_count": 40,
   "metadata": {
    "collapsed": false
   },
   "outputs": [
    {
     "output_type": "stream",
     "name": "stdout",
     "text": "[]\n['[']\n[]\n"
    },
    {
     "output_type": "execute_result",
     "data": {
      "text/plain": "True"
     },
     "metadata": {},
     "execution_count": 40
    }
   ],
   "source": [
    "balance_check('[]')"
   ]
  },
  {
   "cell_type": "code",
   "execution_count": 41,
   "metadata": {
    "collapsed": false
   },
   "outputs": [
    {
     "output_type": "stream",
     "name": "stdout",
     "text": "[]\n['[']\n[]\n['(']\n[]\n['{']\n['{', '(']\n['{', '(', '[']\n['{', '(', '[', '[']\n['{', '(', '[', '[', '[']\n['{', '(', '[', '[']\n['{', '(', '[']\n['{', '(']\n['{']\n[]\n"
    },
    {
     "output_type": "execute_result",
     "data": {
      "text/plain": "True"
     },
     "metadata": {},
     "execution_count": 41
    }
   ],
   "source": [
    "balance_check('[](){([[[]]])}')"
   ]
  },
  {
   "cell_type": "code",
   "execution_count": 42,
   "metadata": {
    "collapsed": false
   },
   "outputs": [
    {
     "output_type": "stream",
     "name": "stdout",
     "text": "[]\n['(']\n[]\n['(']\n[]\n['{']\n['{', ']']\n['{', ']', '}']\n"
    },
    {
     "output_type": "execute_result",
     "data": {
      "text/plain": "False"
     },
     "metadata": {},
     "execution_count": 42
    }
   ],
   "source": [
    "balance_check('()(){]}')"
   ]
  },
  {
   "cell_type": "markdown",
   "metadata": {},
   "source": [
    "# Test Your Solution"
   ]
  },
  {
   "cell_type": "code",
   "execution_count": 44,
   "metadata": {
    "collapsed": false
   },
   "outputs": [
    {
     "output_type": "stream",
     "name": "stdout",
     "text": "[]\n['[']\n[]\n['(']\n[]\n['{']\n['{', '(']\n['{', '(', '[']\n['{', '(', '[', '[']\n['{', '(', '[', '[', '[']\n['{', '(', '[', '[']\n['{', '(', '[']\n['{', '(']\n['{']\n[]\n['(']\n[]\n['[']\n['[', '{']\n['[', '{', '{']\n['[', '{', '{', '{']\n['[', '{', '{', '{', '(']\n['[', '{', '{', '{', '(', '(']\n['[', '{', '{', '{', '(']\n['[', '{', '{', '{']\n['[', '{', '{']\n['[', '{']\n['[']\n[]\n['(']\n['(', '(']\n['(', '(', '(']\n['(', '(']\n['(']\n[]\n[]\n['[']\n['[', '[']\n['[', '[', '[']\n['[', '[']\n['[']\n['[', ')']\n['[', ')', ']']\nALL TEST CASES PASSED\n"
    }
   ],
   "source": [
    "\"\"\"\n",
    "RUN THIS CELL TO TEST YOUR SOLUTION\n",
    "\"\"\"\n",
    "from nose.tools import assert_equal\n",
    "\n",
    "class TestBalanceCheck(object):\n",
    "    \n",
    "    def test(self,sol):\n",
    "        assert_equal(sol('[](){([[[]]])}('),False)\n",
    "        assert_equal(sol('[{{{(())}}}]((()))'),True)\n",
    "        assert_equal(sol('[[[]])]'),False)\n",
    "        print ('ALL TEST CASES PASSED')\n",
    "        \n",
    "# Run Tests\n",
    "\n",
    "t = TestBalanceCheck()\n",
    "t.test(balance_check)"
   ]
  },
  {
   "cell_type": "markdown",
   "metadata": {},
   "source": [
    "## Good Job!"
   ]
  }
 ],
 "metadata": {
  "kernelspec": {
   "display_name": "Python 3.8.2 64-bit",
   "language": "python",
   "name": "python38264bite57af90baf4c458aa9d139163dfc9007"
  },
  "language_info": {
   "codemirror_mode": {
    "name": "ipython",
    "version": 2
   },
   "file_extension": ".py",
   "mimetype": "text/x-python",
   "name": "python",
   "nbconvert_exporter": "python",
   "pygments_lexer": "ipython2",
   "version": "3.8.2-final"
  }
 },
 "nbformat": 4,
 "nbformat_minor": 0
}