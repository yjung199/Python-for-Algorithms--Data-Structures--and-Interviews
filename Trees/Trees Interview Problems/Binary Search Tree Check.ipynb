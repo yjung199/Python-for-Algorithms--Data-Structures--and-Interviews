{
 "cells": [
  {
   "cell_type": "markdown",
   "metadata": {},
   "source": [
    "# Binary Search Tree Check \n",
    "\n",
    "## Problem Statement\n",
    "\n",
    "Given a binary tree, check whether it’s a binary search tree or not.\n",
    "\n",
    "** Again, no solution cell, just worry about your code making sense logically. Hint: Think about tree traversals. **\n",
    "\n",
    "## Solution\n",
    "\n",
    "Fill out your solution below:"
   ]
  },
  {
   "cell_type": "code",
   "execution_count": 1,
   "metadata": {
    "collapsed": false
   },
   "outputs": [],
   "source": [
    "# Code goes Here\n",
    "\n",
    "# Binary Tree is simply a non linear data structure where each node can have at most 2 child nodes.\n",
    "# Binary Search Tree is the tree that has leftchild < current and rightchild > current\n",
    "\n",
    "# If a tree is a binary search tree, then traversing the tree INORDER should lead to the SORTED ORDER of the values in the tree.\n",
    "\n",
    "values = []\n",
    "def inorder(tree):\n",
    "    if tree:\n",
    "        inorder.(tree.getLeftChild())\n",
    "        values.append(tree.getRootVal())\n",
    "        inorder.(tree.getRightChild())\n",
    "\n",
    "if sorted(tree) == values:\n",
    "    return True\n",
    "return False\n",
    "\n"
   ]
  },
  {
   "cell_type": "markdown",
   "metadata": {},
   "source": [
    "This is a classic interview problem, so feel free to just Google search \"Validate BST\" for more information on this problem!"
   ]
  }
 ],
 "metadata": {
  "kernelspec": {
   "display_name": "Python 2",
   "language": "python",
   "name": "python2"
  },
  "language_info": {
   "codemirror_mode": {
    "name": "ipython",
    "version": 2
   },
   "file_extension": ".py",
   "mimetype": "text/x-python",
   "name": "python",
   "nbconvert_exporter": "python",
   "pygments_lexer": "ipython2",
   "version": "2.7.11"
  }
 },
 "nbformat": 4,
 "nbformat_minor": 0
}