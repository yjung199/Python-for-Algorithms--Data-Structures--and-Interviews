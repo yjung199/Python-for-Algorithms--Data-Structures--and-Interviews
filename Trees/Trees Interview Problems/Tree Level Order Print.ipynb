{
 "cells": [
  {
   "cell_type": "markdown",
   "metadata": {},
   "source": [
    "# Tree Level Order Print \n",
    "\n",
    "Given a binary tree of integers, print it in level order. The output will contain space between the numbers in the same level, and new line between different levels. For example, if the tree is: \n",
    "___\n",
    "![title](tree_print.png)\n",
    "___\n",
    "The output should be: \n",
    "\n",
    "    1 \n",
    "    2 3 \n",
    "    4 5 6"
   ]
  },
  {
   "cell_type": "markdown",
   "metadata": {},
   "source": [
    "## Solution\n",
    "\n",
    "Fill out your solution below:"
   ]
  },
  {
   "cell_type": "code",
   "execution_count": 5,
   "metadata": {
    "collapsed": true
   },
   "outputs": [],
   "source": [
    "class Node:\n",
    "    def __init__(self, val=None):\n",
    "        self.left = None\n",
    "        self.right = None\n",
    "        self.val =  val "
   ]
  },
  {
   "cell_type": "code",
   "execution_count": 6,
   "metadata": {
    "collapsed": true
   },
   "outputs": [],
   "source": [
    "\n",
    "# Recursive Python program for level order traversal of Binary Tree \n",
    "def levelOrderPrint(tree):\n",
    "    for d in range(height(tree)):\n",
    "        GivenLevelPrint(tree, d)\n",
    "    \n",
    "\n",
    "def GivenLevelPrint(tree, level):\n",
    "    if tree:\n",
    "        if level == 1:\n",
    "            print(tree.val)\n",
    "        elif level > 1:\n",
    "            GivenLevelPrint(tree.left, level-1)\n",
    "            GivenLevelPrint(tree.right, level-1)\n",
    "\n",
    "# Compute the height of a tree--the number of nodes along the longest path from the root node down to the farthest leaf node \n",
    "def height(node):\n",
    "    if node is None:\n",
    "        return 0\n",
    "    else:\n",
    "        # Compute the height of each subtree\n",
    "        lheight = height(node.left)\n",
    "        rheight = height(node.right)\n",
    "    if lheight > rheight:\n",
    "        return lheight+1\n",
    "    else:\n",
    "        return rheight+1"
   ]
  },
  {
   "cell_type": "code",
   "execution_count": 19,
   "metadata": {},
   "outputs": [],
   "source": [
    "# Breadth Traversal using Queue\n",
    "# 1) Create an empty queue q\n",
    "# 2) temp_node = root /*start from root*/\n",
    "# 3) Loop while temp_node is not NULL\n",
    "#     a) print temp_node->data.\n",
    "#     b) Enqueue temp_node’s children (first left then right children) to q\n",
    "#     c) Dequeue a node from q and assign it’s value to temp_node\n",
    "\n",
    "\n",
    "\n",
    "def levelOrderPrint_Queue(tree):\n",
    "    \n",
    "    if tree:\n",
    "        queue = []\n",
    "        queue.append(tree)\n",
    "        while len(queue):\n",
    "            print(queue[len(queue)-1].val)\n",
    "            temp = queue.pop()\n",
    "            if temp.left:\n",
    "                queue.insert(0, temp.left)\n",
    "            if temp.right:\n",
    "                queue.insert(0, temp.right)\n",
    "\n"
   ]
  },
  {
   "cell_type": "code",
   "execution_count": 20,
   "metadata": {},
   "outputs": [],
   "source": [
    "root = Node(1) \n",
    "root.left = Node(2) \n",
    "root.right = Node(3) \n",
    "root.left.left = Node(4) \n",
    "root.left.right = Node(5) "
   ]
  },
  {
   "cell_type": "code",
   "execution_count": 22,
   "metadata": {},
   "outputs": [
    {
     "output_type": "stream",
     "name": "stdout",
     "text": "1\n2\n3\n4\n5\n"
    }
   ],
   "source": [
    "levelOrderPrint_Queue(root)"
   ]
  },
  {
   "cell_type": "code",
   "execution_count": 58,
   "metadata": {},
   "outputs": [],
   "source": [
    "# SOLUTION\n",
    "import collections\n",
    "def levelOrderPrint_Sol(tree):\n",
    "    if not tree:\n",
    "        return\n",
    "    nodes = collections.deque([tree])\n",
    "    currentCount = 1\n",
    "    nextCount = 0\n",
    "    while len(nodes) != 0:\n",
    "        currentNode = nodes.popleft()\n",
    "        currentCount -= 1\n",
    "\n",
    "        print(currentNode.val, end=\" \")\n",
    "        if currentNode.left:\n",
    "            nodes.append(currentNode.left)\n",
    "            nextCount += 1\n",
    "        if currentNode.right:\n",
    "            nodes.append(currentNode.right)\n",
    "            nextCount += 1\n",
    "\n",
    "        # Printing current level is done\n",
    "        if currentCount == 0:\n",
    "            # Print new line\n",
    "            print ('\\n')\n",
    "            # Switch currentCount and nextCount\n",
    "            currentCount, nextCount = nextCount, currentCount\n"
   ]
  },
  {
   "cell_type": "code",
   "execution_count": 59,
   "metadata": {},
   "outputs": [],
   "source": [
    "root = Node(1) \n",
    "root.left = Node(2) \n",
    "root.right = Node(3) \n",
    "root.left.left = Node(4) \n",
    "root.left.right = Node(5) "
   ]
  },
  {
   "cell_type": "code",
   "execution_count": 60,
   "metadata": {},
   "outputs": [
    {
     "output_type": "stream",
     "name": "stdout",
     "text": "1 \n\n2 3 \n\n4 5 \n\n"
    }
   ],
   "source": [
    "levelOrderPrint_Sol(root)"
   ]
  },
  {
   "cell_type": "code",
   "execution_count": null,
   "metadata": {},
   "outputs": [],
   "source": []
  },
  {
   "cell_type": "code",
   "execution_count": null,
   "metadata": {},
   "outputs": [],
   "source": []
  }
 ],
 "metadata": {
  "kernelspec": {
   "display_name": "Python 3.8.2 64-bit",
   "language": "python",
   "name": "python38264bite57af90baf4c458aa9d139163dfc9007"
  },
  "language_info": {
   "codemirror_mode": {
    "name": "ipython",
    "version": 2
   },
   "file_extension": ".py",
   "mimetype": "text/x-python",
   "name": "python",
   "nbconvert_exporter": "python",
   "pygments_lexer": "ipython2",
   "version": "3.8.2-final"
  }
 },
 "nbformat": 4,
 "nbformat_minor": 0
}