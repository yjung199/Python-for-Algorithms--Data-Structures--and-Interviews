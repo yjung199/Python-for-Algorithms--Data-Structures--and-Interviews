{
 "cells": [
  {
   "cell_type": "markdown",
   "metadata": {},
   "source": [
    "# Trim a Binary Search Tree \n",
    "\n",
    "## Problem Statement\n",
    "\n",
    "Given the root of a binary search tree and 2 numbers min and max, trim the tree such that all the numbers in the new tree are between min and max (inclusive). The resulting tree should still be a valid binary search tree. So, if we get this tree as input:\n",
    "___\n",
    "\n",
    "![title](bst1.png)\n",
    "___\n",
    "and we’re given **min value as 5** and **max value as 13**, then the resulting binary search tree should be: \n",
    "___\n",
    "![title](bst_trim.png)\n",
    "___\n",
    "We should remove all the nodes whose value is not between min and max. \n",
    "\n",
    "___\n",
    "** Feel free to reference the lecture on Binary Search Tree for the node class, but what it more important here is the logic of your function. In which case your function should be in the form:**"
   ]
  },
  {
   "cell_type": "code",
   "execution_count": 67,
   "metadata": {},
   "outputs": [],
   "source": [
    "class Node:\n",
    "    def __init__(self, val=None):\n",
    "        self.left = None\n",
    "        self.right = None\n",
    "        self.val =  val"
   ]
  },
  {
   "cell_type": "code",
   "execution_count": 68,
   "metadata": {
    "collapsed": true
   },
   "outputs": [],
   "source": [
    "def trimBST(tree,minVal,maxVal):\n",
    "    \n",
    "    # PostOrder = L -> R -> V\n",
    "    # Doesn't work in other ways it seems (No Inorder nor preorder)\n",
    "    # Process the left first and then the right\n",
    "    # building new tree bottom up from the leaves towards the root \n",
    "    # As a result, while processing the node itself, both its left and right subtrees are valid trimmed BST\n",
    "\n",
    "    if not tree:\n",
    "        return\n",
    "    # L        \n",
    "    tree.left = trimBST(tree.left, minVal, maxVal)\n",
    "\n",
    "    # R\n",
    "    tree.right = trimBST(tree.right, minVal, maxVal)\n",
    "\n",
    "    # V\n",
    "    # Return a reference based on its value\n",
    "    # which will then be assigned to its parent's left or right child pointer \n",
    "    # depending on whether the current node is the left or right child of the parent.\n",
    "\n",
    "    # If current nodes value is minVal <= val <= maxVal\n",
    "    if minVal <= tree.val <= maxVal:\n",
    "        # Just return the reference to the node itself\n",
    "        # With the recursive calls above, it will take care of all the branches\n",
    "        return tree\n",
    "\n",
    "    # If current nodes value is < minVal\n",
    "    if tree.val < minVal:\n",
    "        # Return the reference to its right subtree (and discard the left subtree)\n",
    "        return tree.right\n",
    "\n",
    "    # If current nodes value is > maxVal\n",
    "    if tree.val > maxVal:\n",
    "        # Return the reference to its left subtree (and discard the right subtree)\n",
    "        return tree.left\n",
    "          # # R\n",
    "    \n",
    "# Use tree.left , tree.right , and tree.val as your methods to call"
   ]
  },
  {
   "cell_type": "code",
   "execution_count": 69,
   "metadata": {},
   "outputs": [],
   "source": [
    "import collections\n",
    "def levelOrderPrint_Sol(tree):\n",
    "    if not tree:\n",
    "        return\n",
    "    nodes = collections.deque([tree])\n",
    "    currentCount = 1\n",
    "    nextCount = 0\n",
    "    while len(nodes) != 0:\n",
    "        currentNode = nodes.popleft()\n",
    "        currentCount -= 1\n",
    "\n",
    "        print(currentNode.val, end=\" \")\n",
    "        if currentNode.left:\n",
    "            nodes.append(currentNode.left)\n",
    "            nextCount += 1\n",
    "        if currentNode.right:\n",
    "            nodes.append(currentNode.right)\n",
    "            nextCount += 1\n",
    "\n",
    "        # Printing current level is done\n",
    "        if currentCount == 0:\n",
    "            # Print new line\n",
    "            print ('\\n')\n",
    "            # Switch currentCount and nextCount\n",
    "            currentCount, nextCount = nextCount, currentCount"
   ]
  },
  {
   "cell_type": "code",
   "execution_count": 70,
   "metadata": {},
   "outputs": [],
   "source": [
    "root = Node(1) \n",
    "root.left = Node(2) \n",
    "root.right = Node(3) \n",
    "root.left.left = Node(4) \n",
    "root.left.right = Node(5)"
   ]
  },
  {
   "cell_type": "code",
   "execution_count": 71,
   "metadata": {},
   "outputs": [
    {
     "output_type": "stream",
     "name": "stdout",
     "text": "1 \n\n2 3 \n\n"
    }
   ],
   "source": [
    "a = trimBST(root, 1, 3)\n",
    "levelOrderPrint_Sol(a)"
   ]
  },
  {
   "cell_type": "markdown",
   "metadata": {},
   "source": [
    "** There is no solution cell because the nature of the code should be more logical and a test would essentially give away the answer. Just focus your answer to fill out the logic of the solution using the methods described above **\n",
    "\n",
    "## Best of luck!"
   ]
  }
 ],
 "metadata": {
  "kernelspec": {
   "display_name": "Python 3.8.2 64-bit",
   "language": "python",
   "name": "python38264bite57af90baf4c458aa9d139163dfc9007"
  },
  "language_info": {
   "codemirror_mode": {
    "name": "ipython",
    "version": 2
   },
   "file_extension": ".py",
   "mimetype": "text/x-python",
   "name": "python",
   "nbconvert_exporter": "python",
   "pygments_lexer": "ipython2",
   "version": "3.8.2-final"
  }
 },
 "nbformat": 4,
 "nbformat_minor": 0
}